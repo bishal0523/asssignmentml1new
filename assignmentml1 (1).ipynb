{
 "cells": [
  {
   "cell_type": "code",
   "execution_count": null,
   "id": "69a1e8c7-eff5-4fba-8dfe-6ef8a751bfed",
   "metadata": {},
   "outputs": [],
   "source": [
    "#assgnment\n"
   ]
  },
  {
   "cell_type": "code",
   "execution_count": null,
   "id": "85b172c5-2d87-46e8-9744-0e4b5ed2c548",
   "metadata": {},
   "outputs": [],
   "source": [
    "\n",
    "\n",
    "# Q1 - Artificial Intelligence (AI), Machine Learning (ML), Deep Learning (DL), and Data Science (DS)\n",
    "# AI (Artificial Intelligence): The broad field of creating machines that can perform tasks requiring human intelligence.\n",
    "# ML (Machine Learning): A subset of AI that involves the development of algorithms that enable computers to learn from data.\n",
    "# DL (Deep Learning): A subset of ML that focuses on neural networks with many layers (deep neural networks) for learning representations from data.\n",
    "# DS (Data Science): The interdisciplinary field that uses scientific methods, processes, algorithms, and systems to extract insights and knowledge from structured and unstructured data.\n",
    "# Q2 - Supervised Learning\n",
    "# Definition: In supervised learning, the algorithm is trained on a labeled dataset, where the input data is paired with the corresponding correct output.\n",
    "# Examples: Linear Regression, Decision Trees, Support Vector Machines, Neural Networks for classification and regression.\n",
    "# Q3 - Unsupervised Learning\n",
    "# Definition: In unsupervised learning, the algorithm is given data without explicit instructions on what to do with it. The system tries to learn the patterns and the structure from the data.\n",
    "# Examples: K-Means Clustering, Hierarchical Clustering, Principal Component Analysis (PCA).\n",
    "# Q4 - Difference between AI, ML, DL, and DS\n",
    "# AI is the broader concept of machines being able to carry out tasks in a smart way.\n",
    "# ML is a subset of AI, focusing on algorithms that enable computers to learn from data.\n",
    "# DL is a subset of ML using neural networks with many layers.\n",
    "# DS involves extracting insights and knowledge from structured and unstructured data.\n",
    "# Q5 - Differences between Supervised, Unsupervised, and Semi-Supervised Learning\n",
    "# Supervised Learning: Input data is labeled, and the algorithm learns to predict the output.\n",
    "# Unsupervised Learning: Input data is unlabeled, and the algorithm discovers patterns and structures in the data.\n",
    "# Semi-Supervised Learning: A combination where the algorithm is trained on a dataset that contains both labeled and unlabeled data.\n",
    "# Q6 - Train, Test, and Validation Split\n",
    "# Train Set: Used to train the model.\n",
    "# Test Set: Used to evaluate the model's performance.\n",
    "# Validation Set: An additional dataset used during training to tune hyperparameters and avoid overfitting.\n",
    "# Q7 - Unsupervised Learning in Anomaly Detection\n",
    "# Unsupervised learning can be used for anomaly detection by identifying patterns in data and flagging instances that deviate significantly from those patterns.\n",
    "# Q8 - Commonly Used Algorithms\n",
    "# Supervised Learning Algorithms: Linear Regression, Decision Trees, Random Forest, Support Vector Machines, Neural Networks.\n",
    "# Unsupervised Learning Algorithms: K-Means Clustering, Hierarchical Clustering, Principal Component Analysis (PCA), t-Distributed Stochastic Neighbor Embedding (t-SNE).\n",
    "# If you have any specific issues or need further clarification on any part, please provide more details.\n",
    "\n",
    "\n",
    "\n",
    "\n",
    "\n",
    "\n",
    "\n"
   ]
  },
  {
   "cell_type": "code",
   "execution_count": null,
   "id": "652babeb-3d6b-4139-beaa-3d2657f00092",
   "metadata": {},
   "outputs": [],
   "source": []
  },
  {
   "cell_type": "code",
   "execution_count": null,
   "id": "568c23dc-c9ae-4e7c-836e-dcdde7e93fd9",
   "metadata": {},
   "outputs": [],
   "source": []
  },
  {
   "cell_type": "code",
   "execution_count": null,
   "id": "467dc099-f8e4-4781-abf3-5c641a35a244",
   "metadata": {},
   "outputs": [],
   "source": []
  },
  {
   "cell_type": "code",
   "execution_count": null,
   "id": "3cd42dc6-8984-4353-8fd7-4d2e6c61cbe4",
   "metadata": {},
   "outputs": [],
   "source": []
  },
  {
   "cell_type": "code",
   "execution_count": null,
   "id": "f0a0994d-1c8b-4620-a874-26eba4e2450c",
   "metadata": {},
   "outputs": [],
   "source": []
  },
  {
   "cell_type": "code",
   "execution_count": null,
   "id": "ba9c96b0-2e83-472c-a11e-3760ad875feb",
   "metadata": {},
   "outputs": [],
   "source": []
  },
  {
   "cell_type": "code",
   "execution_count": null,
   "id": "de6fc897-347e-48e2-9ac7-46e7ef900dec",
   "metadata": {},
   "outputs": [],
   "source": []
  }
 ],
 "metadata": {
  "kernelspec": {
   "display_name": "Python 3 (ipykernel)",
   "language": "python",
   "name": "python3"
  },
  "language_info": {
   "codemirror_mode": {
    "name": "ipython",
    "version": 3
   },
   "file_extension": ".py",
   "mimetype": "text/x-python",
   "name": "python",
   "nbconvert_exporter": "python",
   "pygments_lexer": "ipython3",
   "version": "3.10.8"
  }
 },
 "nbformat": 4,
 "nbformat_minor": 5
}
